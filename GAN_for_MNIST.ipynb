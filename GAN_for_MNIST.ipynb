{
 "cells": [
  {
   "cell_type": "code",
   "execution_count": 1,
   "metadata": {},
   "outputs": [],
   "source": [
    "import torch\n",
    "import torchvision\n",
    "import torch.nn as nn\n",
    "import torch.nn.functional as F\n",
    "from torch.utils.data import DataLoader\n",
    "from torchvision import datasets\n",
    "from torchvision import transforms\n",
    "from torchvision.utils import save_image\n",
    "import numpy as np\n",
    "import datetime\n",
    "import scipy.misc\n",
    "\n"
   ]
  },
  {
   "attachments": {},
   "cell_type": "markdown",
   "metadata": {},
   "source": [
    "# 1.Generative Adversarial Network(GAN)"
   ]
  },
  {
   "attachments": {},
   "cell_type": "markdown",
   "metadata": {},
   "source": [
    "* Architecture of GAN\n",
    "<div align=\"center\">\n",
    "    <img src=\"https://cdn-images-1.medium.com/v2/resize:fit:2000/1*39Nnni_nhPDaLu9AnTLoWw.png\",alt=\"GAN\">\n",
    "</div>\n",
    "\n",
    "* Generator\n",
    "<div align=\"center\">\n",
    "    <img src=\"https://cdn-images-1.medium.com/v2/resize:fit:1000/1*7i9iCdLZraZkrMy1-KADrA.png\",alt=\"Generator\">\n",
    "</div>\n",
    "\n",
    "* Discriminator\n",
    "<div align=\"center\">\n",
    "    <img src=\"https://www.researchgate.net/profile/Sinan-Kaplan/publication/319093376/figure/fig20/AS:526859935731712@1502624605127/Architecture-of-proposed-discriminator-network-which-is-part-of-GAN-based-on-CNN-units.png\",alt=\"Discriminator\">\n",
    "</div>"
   ]
  },
  {
   "cell_type": "code",
   "execution_count": 2,
   "metadata": {},
   "outputs": [],
   "source": [
    "Model_Name='ConditionGAN'\n",
    "device=torch.device('cuda:0' if torch.cuda.is_available() else 'cpu')"
   ]
  },
  {
   "cell_type": "code",
   "execution_count": 3,
   "metadata": {},
   "outputs": [],
   "source": [
    "def to_cuda(x):\n",
    "    return x.to(device)"
   ]
  },
  {
   "cell_type": "code",
   "execution_count": 4,
   "metadata": {},
   "outputs": [],
   "source": [
    "def to_onehot(x,num_classes=10):\n",
    "    assert isinstance(x,int) or isinstance(x,(torch.LongTensor,torch.cuda.LongTensor))\n",
    "    if isinstance(x,int):\n",
    "        c=torch.zeros(1,num_classes).long()\n",
    "        c[0][x]=1\n",
    "    else:\n",
    "        x=x.cpu()\n",
    "        c=torch.LongTensor(x.size(0),num_classes)\n",
    "        c.zero_()\n",
    "        c.scatter_(1,x,1)\n",
    "    return c"
   ]
  },
  {
   "cell_type": "code",
   "execution_count": 5,
   "metadata": {},
   "outputs": [],
   "source": [
    "def get_simple_image(G,n_noise=100):\n",
    "    for num in range(10):\n",
    "        c=to_cuda(to_onehot(num))\n",
    "        for i in range(10):\n",
    "            z=to_cuda(torch.randn(1,n_noise))\n",
    "            y_hat=G(z,c)\n",
    "            line_img=torch.cat((line_img,y_hat.view(28,28)),dim=1) if i>0 else y_hat.view(28,28)\n",
    "        all_img=torch.cat((all_img,line_img),dim=0) if num>0 else line_img\n",
    "    img=all_img.cpu().data.numpy()\n",
    "    return img\n",
    "\n",
    "    "
   ]
  },
  {
   "cell_type": "code",
   "execution_count": 9,
   "metadata": {},
   "outputs": [],
   "source": [
    "class Discriminator(nn.Module):\n",
    "    \n",
    "    def __init__(self,input_size=784,label_size=10,num_classes=1):\n",
    "        super(Discriminator,self).__init__()\n",
    "        self.layer1=nn.Sequential(\n",
    "            nn.Linear(input_size+label_size,200),\n",
    "            nn.ReLU(),\n",
    "            nn.Dropout()\n",
    "        )\n",
    "        self.layer2=nn.Sequential(\n",
    "            nn.Linear(200,200),\n",
    "            nn.ReLU(),\n",
    "            nn.Dropout()\n",
    "        )\n",
    "        self.layer3=nn.Sequential(\n",
    "            nn.Linear(200,num_classes),\n",
    "            nn.Sigmoid()\n",
    "        )\n",
    "    \n",
    "    def forward(self,x,y):\n",
    "        x,y=x.view(x.size(0),-1),y.view(y.size(0),-1).float()\n",
    "        v=torch.cat((x,y),1)\n",
    "        y_=self.layer1(v)\n",
    "        y_=self.layer2(y_)\n",
    "        y_=self.layer3(y_)\n",
    "        return y_"
   ]
  },
  {
   "cell_type": "code",
   "execution_count": 10,
   "metadata": {},
   "outputs": [],
   "source": [
    "class Generator(nn.Module):\n",
    "\n",
    "    def __init__(self,input_size=100,label_size=10,num_classes=784):\n",
    "        super(Generator,self).__init__()\n",
    "        self.layer=nn.Sequential(\n",
    "            nn.Linear(input_size+label_size,200),\n",
    "            nn.LeakyReLU(0.2),\n",
    "            nn.Linear(200,200),\n",
    "            nn.LeakyReLU(0.2),\n",
    "            nn.Linear(200,num_classes),\n",
    "            nn.Tanh()\n",
    "        )\n",
    "    \n",
    "    def forward(self,x,y):\n",
    "        x,y=x.view(x.size(0),-1),y.view(y.size(0),-1).float()\n",
    "        v=torch.cat((x,y),1)\n",
    "        y_=self.layer(v)\n",
    "        y_=y_.view(x.size(0),1,28,28)\n",
    "        return y_"
   ]
  },
  {
   "cell_type": "code",
   "execution_count": 11,
   "metadata": {},
   "outputs": [],
   "source": [
    "D=to_cuda(Discriminator())\n",
    "G=to_cuda(Generator())"
   ]
  },
  {
   "cell_type": "code",
   "execution_count": 12,
   "metadata": {},
   "outputs": [],
   "source": [
    "transform=transforms.Compose(\n",
    "    [transforms.ToTensor(),\n",
    "     transforms.Normalize(mean=(0.5,0.5,0.5),\n",
    "     std=(0.5,0.5,0.5))]\n",
    ")"
   ]
  },
  {
   "cell_type": "code",
   "execution_count": 14,
   "metadata": {},
   "outputs": [],
   "source": [
    "mnist=datasets.MNIST(root='./data/',train=True,transform=transform,download=True)"
   ]
  },
  {
   "cell_type": "code",
   "execution_count": 15,
   "metadata": {},
   "outputs": [],
   "source": [
    "batch_size=64\n",
    "condition_size=10"
   ]
  },
  {
   "cell_type": "code",
   "execution_count": 18,
   "metadata": {},
   "outputs": [],
   "source": [
    "data_loader=DataLoader(dataset=mnist,batch_size=batch_size,shuffle=True,drop_last=True)"
   ]
  },
  {
   "cell_type": "code",
   "execution_count": 19,
   "metadata": {},
   "outputs": [],
   "source": [
    "criterion=nn.BCELoss()\n",
    "D_opt=torch.optim.Adam(D.parameters())\n",
    "G_opt=torch.optim.Adam(G.parameters())"
   ]
  },
  {
   "cell_type": "code",
   "execution_count": 20,
   "metadata": {},
   "outputs": [],
   "source": [
    "max_epoch=100\n",
    "step=0\n",
    "n_critic=5\n",
    "n_noise=100\n"
   ]
  },
  {
   "cell_type": "code",
   "execution_count": 21,
   "metadata": {},
   "outputs": [],
   "source": [
    "D_labels=to_cuda(torch.ones(batch_size))\n",
    "D_fakes=to_cuda(torch.zeros(batch_size))"
   ]
  },
  {
   "cell_type": "code",
   "execution_count": null,
   "metadata": {},
   "outputs": [],
   "source": [
    "for epoch in range(max_epoch):\n",
    "    for idx,(image,labels) in enumerate(data_loader):\n",
    "        step+=1\n",
    "\n",
    "        x=to_cuda(image)\n",
    "        y=labels.view(batch_size,1)\n",
    "        y=to_cuda(to_onehot(y))\n",
    "        x_outputs=D(x,y)\n",
    "        D_x_loss=criterion(x_outputs,D_labels)\n",
    "\n",
    "        z=to_cuda(torch.randn(batch_size,n_noise))\n",
    "        z_output=D(G(z,y),y)\n",
    "        "
   ]
  },
  {
   "cell_type": "code",
   "execution_count": null,
   "metadata": {},
   "outputs": [],
   "source": []
  },
  {
   "cell_type": "code",
   "execution_count": null,
   "metadata": {},
   "outputs": [],
   "source": []
  }
 ],
 "metadata": {
  "kernelspec": {
   "display_name": "Python 3",
   "language": "python",
   "name": "python3"
  },
  "language_info": {
   "codemirror_mode": {
    "name": "ipython",
    "version": 3
   },
   "file_extension": ".py",
   "mimetype": "text/x-python",
   "name": "python",
   "nbconvert_exporter": "python",
   "pygments_lexer": "ipython3",
   "version": "3.8.10"
  },
  "orig_nbformat": 4
 },
 "nbformat": 4,
 "nbformat_minor": 2
}
